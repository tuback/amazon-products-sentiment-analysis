{
 "cells": [
  {
   "cell_type": "markdown",
   "id": "1a36aab8-925f-4210-a34d-c8cd0d20c13b",
   "metadata": {},
   "source": [
    "# Feature Engineering & Modelling for Amazon Product Review Sentiment Analysis"
   ]
  },
  {
   "cell_type": "markdown",
   "id": "61436df9-6d94-466f-b2eb-7c0e12c6b488",
   "metadata": {},
   "source": [
    "This notebook demonstrates the feature engineering and model training process for sentiment analysis of Amazon product reviews."
   ]
  },
  {
   "cell_type": "code",
   "execution_count": 1,
   "id": "bc2f1df6-cd8d-45a1-be37-6364e3b88c21",
   "metadata": {},
   "outputs": [],
   "source": [
    "import pandas as pd\n",
    "import numpy as np\n",
    "from sklearn.model_selection import train_test_split, GridSearchCV\n",
    "from sklearn.preprocessing import StandardScaler, OneHotEncoder, LabelEncoder\n",
    "from sklearn.compose import ColumnTransformer\n",
    "from sklearn.pipeline import Pipeline\n",
    "from sklearn.linear_model import LogisticRegression\n",
    "from sklearn.ensemble import RandomForestClassifier\n",
    "from xgboost import XGBClassifier\n",
    "from sklearn.metrics import classification_report, accuracy_score, confusion_matrix\n",
    "from sklearn.impute import SimpleImputer\n",
    "from sklearn.feature_extraction.text import TfidfVectorizer\n",
    "from textblob import TextBlob\n",
    "from scipy.sparse import hstack"
   ]
  },
  {
   "cell_type": "code",
   "execution_count": 2,
   "id": "bfa68857-279f-42a7-ac7d-44f60a0c1d58",
   "metadata": {},
   "outputs": [
    {
     "data": {
      "text/html": [
       "<div>\n",
       "<style scoped>\n",
       "    .dataframe tbody tr th:only-of-type {\n",
       "        vertical-align: middle;\n",
       "    }\n",
       "\n",
       "    .dataframe tbody tr th {\n",
       "        vertical-align: top;\n",
       "    }\n",
       "\n",
       "    .dataframe thead th {\n",
       "        text-align: right;\n",
       "    }\n",
       "</style>\n",
       "<table border=\"1\" class=\"dataframe\">\n",
       "  <thead>\n",
       "    <tr style=\"text-align: right;\">\n",
       "      <th></th>\n",
       "      <th>asin</th>\n",
       "      <th>helpful_vote</th>\n",
       "      <th>parent_asin</th>\n",
       "      <th>rating</th>\n",
       "      <th>text</th>\n",
       "      <th>timestamp</th>\n",
       "      <th>title</th>\n",
       "      <th>user_id</th>\n",
       "      <th>verified_purchase</th>\n",
       "      <th>category</th>\n",
       "      <th>has_image</th>\n",
       "    </tr>\n",
       "  </thead>\n",
       "  <tbody>\n",
       "    <tr>\n",
       "      <th>0</th>\n",
       "      <td>B09WSVFSGJ</td>\n",
       "      <td>8</td>\n",
       "      <td>B09WSVFSGJ</td>\n",
       "      <td>1.0</td>\n",
       "      <td>Don’t get it!  My hair is falling out!  PLEASE...</td>\n",
       "      <td>1660780044308</td>\n",
       "      <td>My hair is falling out!  DON’T get it!</td>\n",
       "      <td>AHGCCTL7DBBD7FK4RFYAJS53BGOA</td>\n",
       "      <td>True</td>\n",
       "      <td>All_Beauty</td>\n",
       "      <td>False</td>\n",
       "    </tr>\n",
       "    <tr>\n",
       "      <th>1</th>\n",
       "      <td>B08YWJP9PJ</td>\n",
       "      <td>0</td>\n",
       "      <td>B08YWJP9PJ</td>\n",
       "      <td>1.0</td>\n",
       "      <td>The curved ends on almost all of these is not ...</td>\n",
       "      <td>1619087472258</td>\n",
       "      <td>Poor design</td>\n",
       "      <td>AETGCWXC47MSMK6B2TLZ44KCFJZQ</td>\n",
       "      <td>True</td>\n",
       "      <td>All_Beauty</td>\n",
       "      <td>False</td>\n",
       "    </tr>\n",
       "    <tr>\n",
       "      <th>2</th>\n",
       "      <td>B076BTRBTN</td>\n",
       "      <td>0</td>\n",
       "      <td>B076BTRBTN</td>\n",
       "      <td>1.0</td>\n",
       "      <td>Crappy &amp; unusable.</td>\n",
       "      <td>1581758635824</td>\n",
       "      <td>Don't waste your money</td>\n",
       "      <td>AEZBFZHVLG7CMLFKRNEDYYYMEYZQ</td>\n",
       "      <td>True</td>\n",
       "      <td>All_Beauty</td>\n",
       "      <td>False</td>\n",
       "    </tr>\n",
       "  </tbody>\n",
       "</table>\n",
       "</div>"
      ],
      "text/plain": [
       "         asin  helpful_vote parent_asin  rating  \\\n",
       "0  B09WSVFSGJ             8  B09WSVFSGJ     1.0   \n",
       "1  B08YWJP9PJ             0  B08YWJP9PJ     1.0   \n",
       "2  B076BTRBTN             0  B076BTRBTN     1.0   \n",
       "\n",
       "                                                text      timestamp  \\\n",
       "0  Don’t get it!  My hair is falling out!  PLEASE...  1660780044308   \n",
       "1  The curved ends on almost all of these is not ...  1619087472258   \n",
       "2                                 Crappy & unusable.  1581758635824   \n",
       "\n",
       "                                    title                       user_id  \\\n",
       "0  My hair is falling out!  DON’T get it!  AHGCCTL7DBBD7FK4RFYAJS53BGOA   \n",
       "1                             Poor design  AETGCWXC47MSMK6B2TLZ44KCFJZQ   \n",
       "2                  Don't waste your money  AEZBFZHVLG7CMLFKRNEDYYYMEYZQ   \n",
       "\n",
       "   verified_purchase    category  has_image  \n",
       "0               True  All_Beauty      False  \n",
       "1               True  All_Beauty      False  \n",
       "2               True  All_Beauty      False  "
      ]
     },
     "execution_count": 2,
     "metadata": {},
     "output_type": "execute_result"
    }
   ],
   "source": [
    "# Load the dataset from a parquet file\n",
    "df_reviews_raw = pd.read_parquet(\"C:/SourceCode/sentiment_amazon_review/dataset/sample_amazon_product_review_data_20240627_152732.parquet\")\n",
    "df_reviews_raw.head(3)"
   ]
  },
  {
   "cell_type": "markdown",
   "id": "ef329a0a-002d-4973-9a80-47c7c3105e15",
   "metadata": {},
   "source": [
    "Remove records where the review text is missing to ensure the dataset is clean and usable for text analysis."
   ]
  },
  {
   "cell_type": "code",
   "execution_count": 3,
   "id": "bf10a95c-89db-4b65-852d-4c3118de04fe",
   "metadata": {},
   "outputs": [],
   "source": [
    "# Remove records where the review text is missing\n",
    "df_reviews_raw = df_reviews_raw[df_reviews_raw[\"text\"].notna()]"
   ]
  },
  {
   "cell_type": "markdown",
   "id": "01f96772-57e6-4531-a148-af6939f91662",
   "metadata": {},
   "source": [
    "Randomly sample 100,000 records from the dataset to create a manageable subset for training and testing."
   ]
  },
  {
   "cell_type": "code",
   "execution_count": 4,
   "id": "0ce9c41c-4f13-43be-80de-a317c87b686b",
   "metadata": {},
   "outputs": [],
   "source": [
    "# Randomly sample 100,000 records from the dataset for training and testing\n",
    "# df_sample = df_reviews_raw.sample(n=400000, random_state=42)\n",
    "df_sample = df_reviews_raw"
   ]
  },
  {
   "cell_type": "markdown",
   "id": "f800e3b8-ade1-4e92-8846-71c30ddb53d5",
   "metadata": {},
   "source": [
    "## Feature Engineering"
   ]
  },
  {
   "cell_type": "markdown",
   "id": "4e3309fb-c0ef-40dd-8f20-0749ad1a1d6b",
   "metadata": {},
   "source": [
    "### New Features"
   ]
  },
  {
   "cell_type": "code",
   "execution_count": 5,
   "id": "99aa3553-32b5-41f3-b592-5acd25cd5f3c",
   "metadata": {},
   "outputs": [],
   "source": [
    "# Create a new column for review length\n",
    "df_sample['review_length'] = df_sample['text'].str.len()"
   ]
  },
  {
   "cell_type": "code",
   "execution_count": 6,
   "id": "b6404147-fd78-487d-ba8c-b49f40210a61",
   "metadata": {},
   "outputs": [],
   "source": [
    "# Convert the timestamp to datetime\n",
    "df_sample['timestamp'] = pd.to_datetime(df_sample['timestamp'].astype('int64'), unit='ms')"
   ]
  },
  {
   "cell_type": "code",
   "execution_count": 7,
   "id": "e69dffb3-c374-4d11-a4c2-4ab5c8a6e6ba",
   "metadata": {},
   "outputs": [],
   "source": [
    "# Extract the review year and month\n",
    "df_sample['review_year'] = df_sample['timestamp'].dt.year\n",
    "df_sample['review_month'] = df_sample['timestamp'].dt.month"
   ]
  },
  {
   "cell_type": "markdown",
   "id": "f531d036-781f-4696-84f0-127a57c71f4f",
   "metadata": {},
   "source": [
    "Sentiment Analysis: Uses TextBlob to calculate the sentiment polarity of the review text and adds it as a feature."
   ]
  },
  {
   "cell_type": "code",
   "execution_count": 8,
   "id": "3cd00992-d6fc-426e-92b8-b235e6c0648b",
   "metadata": {},
   "outputs": [],
   "source": [
    "# !pip install textblob"
   ]
  },
  {
   "cell_type": "code",
   "execution_count": 9,
   "id": "e286c999-4e16-4d98-b83f-27239e7fefdb",
   "metadata": {},
   "outputs": [],
   "source": [
    "# Calculate the sentiment polarity of the review text using TextBlob and add it as a new feature\n",
    "df_sample['sentiment_score'] = df_sample['text'].apply(lambda text: TextBlob(text).sentiment.polarity)"
   ]
  },
  {
   "cell_type": "markdown",
   "id": "d39a722d-8ba6-4262-a6d7-29a8bb99b0e8",
   "metadata": {},
   "source": [
    "### Feature Selection & Target Encoding"
   ]
  },
  {
   "cell_type": "markdown",
   "id": "c91ea2e4-efab-49b8-adb4-1479baa0fd73",
   "metadata": {},
   "source": [
    "Target Encoding: \n",
    "- Sentiment Label: Map numerical ratings to sentiment labels (Negative, Neutral, Positive)"
   ]
  },
  {
   "cell_type": "code",
   "execution_count": 10,
   "id": "80bbb24c-e3c4-4db6-bd2b-39fc47e37eeb",
   "metadata": {},
   "outputs": [],
   "source": [
    "# Create a new target column based on rating sentiment\n",
    "def map_rating_to_sentiment(rating):\n",
    "    if rating in [1, 2]:\n",
    "        return 'Negative'\n",
    "    elif rating == 3:\n",
    "        return 'Neutral'\n",
    "    elif rating in [4, 5]:\n",
    "        return 'Positive'\n",
    "    else:\n",
    "        return 'Unknown'\n",
    "\n",
    "df_sample['sentiment_label'] = df_sample['rating'].apply(map_rating_to_sentiment)"
   ]
  },
  {
   "cell_type": "markdown",
   "id": "d0eb5e28-8794-4d77-8e6e-64ff93843685",
   "metadata": {},
   "source": [
    "Target Encoding: Label Encoding\n",
    "- Encode the sentiment labels to numerical values starting from 0."
   ]
  },
  {
   "cell_type": "code",
   "execution_count": 11,
   "id": "331acba0-5e32-40d3-92b7-7038f5f641b0",
   "metadata": {},
   "outputs": [],
   "source": [
    "# Encode the new target labels so that they start from 0\n",
    "df_sample['sentiment_label'] = df_sample['rating'].apply(map_rating_to_sentiment)\n",
    "label_encoder = LabelEncoder()\n",
    "df_sample['sentiment_label_encoded'] = label_encoder.fit_transform(df_sample['sentiment_label'])"
   ]
  },
  {
   "cell_type": "markdown",
   "id": "88f99db9-cfae-44a7-899e-65e5cbdc1127",
   "metadata": {},
   "source": [
    "Feature and Target Definition\n",
    "- Define the features (text and additional features) and the target variable for model training."
   ]
  },
  {
   "cell_type": "code",
   "execution_count": 12,
   "id": "48e43529-c6a7-4256-b416-d2e1fa169cdd",
   "metadata": {},
   "outputs": [],
   "source": [
    "# Define the features and encoded target variable\n",
    "X_text = df_sample['text']\n",
    "X_additional = df_sample[['review_length', 'helpful_vote', 'sentiment_score', 'verified_purchase', 'category', 'has_image']]\n",
    "y = df_sample['sentiment_label_encoded']"
   ]
  },
  {
   "cell_type": "markdown",
   "id": "9e6cfde1-143f-4b5b-915d-07c53f750b26",
   "metadata": {},
   "source": [
    "### Data Splitting"
   ]
  },
  {
   "cell_type": "markdown",
   "id": "04487b32-7f21-4de4-bb0a-7771273daa26",
   "metadata": {},
   "source": [
    "Split the data into training and testing sets to evaluate model performance on unseen data. Below isfor 30K training 200K test set for quick results retrieval."
   ]
  },
  {
   "cell_type": "code",
   "execution_count": 13,
   "id": "550896df-aad0-4503-a8cb-ffcc9ec242cc",
   "metadata": {},
   "outputs": [],
   "source": [
    "# Split the data into training and testing sets\n",
    "X_train_text, X_test_text, X_train_additional, X_test_additional, y_train, y_test = train_test_split(\n",
    "    X_text, X_additional, y, test_size=0.2, random_state=42)"
   ]
  },
  {
   "cell_type": "markdown",
   "id": "b857cd67-b480-4208-b19a-24441fcad10f",
   "metadata": {},
   "source": [
    "## Preprocessing pipeline"
   ]
  },
  {
   "cell_type": "markdown",
   "id": "302e59a3-1d31-4abf-a477-6c8932dc59ff",
   "metadata": {},
   "source": [
    "Define separate preprocessing pipelines for text, numeric, and categorical features."
   ]
  },
  {
   "cell_type": "code",
   "execution_count": 14,
   "id": "dcf8199d-18a4-4df5-9210-201f2bd71d3d",
   "metadata": {},
   "outputs": [],
   "source": [
    "# Define preprocessing pipelines\n",
    "\n",
    "text_transformer = Pipeline(steps=[\n",
    "    ('tfidf', TfidfVectorizer(stop_words='english', max_features=10000))])  # Limit TF-IDF features to 10,000\n",
    "\n",
    "numeric_features = ['review_length', 'helpful_vote', 'sentiment_score']\n",
    "numeric_transformer = Pipeline(steps=[\n",
    "    ('imputer', SimpleImputer(strategy='median')),\n",
    "    ('scaler', StandardScaler())])\n",
    "\n",
    "categorical_features = ['verified_purchase', 'category', 'has_image']\n",
    "categorical_transformer = Pipeline(steps=[\n",
    "    ('imputer', SimpleImputer(strategy='constant', fill_value='missing')),\n",
    "    ('onehot', OneHotEncoder(handle_unknown='ignore'))])"
   ]
  },
  {
   "cell_type": "markdown",
   "id": "a12ab6c8-9abe-44c3-a83f-14944557aa12",
   "metadata": {},
   "source": [
    "## Model Training and Hyperparameter Tuning"
   ]
  },
  {
   "cell_type": "markdown",
   "id": "3bd59e8f-7f31-4955-8f3c-f0b535fc777e",
   "metadata": {},
   "source": [
    "Define the machine learning models to be evaluated: Logistic Regression and Random Forest."
   ]
  },
  {
   "cell_type": "code",
   "execution_count": 15,
   "id": "07a530d0-6c1f-4ce4-8858-8ad5bcb302bd",
   "metadata": {},
   "outputs": [],
   "source": [
    "# Define the models to be evaluated\n",
    "models = {\n",
    "    'Logistic Regression': LogisticRegression(max_iter=1000),\n",
    "    'Random Forest': RandomForestClassifier(random_state=42),\n",
    "    'XGBoost': XGBClassifier(use_label_encoder=False, eval_metric='mlogloss', random_state=42, nthread=-1)\n",
    "}"
   ]
  },
  {
   "cell_type": "markdown",
   "id": "1cfe1ec8-6726-434e-b440-0c28ca44d74e",
   "metadata": {},
   "source": [
    "Define the parameter grid for hyperparameter tuning using GridSearchCV."
   ]
  },
  {
   "cell_type": "code",
   "execution_count": 16,
   "id": "e316dc30-9b49-49c6-90d5-f5831d2e4db9",
   "metadata": {},
   "outputs": [],
   "source": [
    "# Hyperparameter tuning using GridSearchCV\n",
    "param_grid = {\n",
    "    'Logistic Regression': {\n",
    "        'model__C': [0.01, 0.1, 1, 10, 100]  # Regularization parameter for logistic regression\n",
    "    },\n",
    "    'Random Forest': {\n",
    "        'model__n_estimators': [100, 200],  # Number of trees in the forest\n",
    "        'model__max_depth': [10, 20, None]  # Maximum depth of the trees\n",
    "    },\n",
    "    'XGBoost': {\n",
    "        'model__n_estimators': [100, 200],  # Number of boosting rounds\n",
    "        'model__max_depth': [3, 6, 10],  # Maximum depth of trees\n",
    "        'model__learning_rate': [0.01, 0.1, 0.2]  # Step size shrinkage\n",
    "    }\n",
    "}"
   ]
  },
  {
   "cell_type": "markdown",
   "id": "d7f68993-0922-4988-8f84-e26eb3be8cc2",
   "metadata": {},
   "source": [
    "Perform hyperparameter tuning using GridSearchCV for each model and store the best models."
   ]
  },
  {
   "cell_type": "code",
   "execution_count": 17,
   "id": "9e984eb7",
   "metadata": {},
   "outputs": [],
   "source": [
    "import pickle\n",
    "\n",
    "# Define a custom function to combine text and additional features\n",
    "def combine_features(text_features, \n",
    "                     additional_features, \n",
    "                     text_transformer_path = \"\", \n",
    "                     numeric_transformer_path = \"\", \n",
    "                     categoric_transformer_path = \"\"):\n",
    "    if text_transformer_path == \"\":\n",
    "        text_transformed = text_transformer.fit_transform(text_features)\n",
    "        with open('tfidf_vectorizer.pkl', 'wb') as file:\n",
    "            pickle.dump(text_transformer, file)\n",
    "    else:\n",
    "        with open(text_transformer_path, 'rb') as file:\n",
    "            loaded_vectorizer = pickle.load(file)\n",
    "        text_transformed = loaded_vectorizer.transform(text_features)\n",
    "    \n",
    "    n_features = len(text_transformer.get_feature_names_out())\n",
    "    print(f\"Number of features in the text vectorizer: {n_features}\")\n",
    "    \n",
    "    if numeric_transformer_path == \"\":\n",
    "        numeric_transformed = numeric_transformer.fit_transform(additional_features[numeric_features])\n",
    "        with open('numeric_transformer.pkl', 'wb') as file:\n",
    "            pickle.dump(numeric_transformer, file)\n",
    "    else:\n",
    "        with open(numeric_transformer_path, 'rb') as file:\n",
    "            loaded_numeric_transformer = pickle.load(file)\n",
    "        numeric_transformed = loaded_numeric_transformer.transform(additional_features[numeric_features])\n",
    "\n",
    "        \n",
    "    if categoric_transformer_path == \"\":\n",
    "        categorical_transformed = categorical_transformer.fit_transform(additional_features[categorical_features])\n",
    "        with open('categoric_transformer.pkl', 'wb') as file:\n",
    "            pickle.dump(categorical_transformer, file)\n",
    "    else:\n",
    "        with open(categoric_transformer_path, 'rb') as file:\n",
    "            loaded_categoric_transformer = pickle.load(file)\n",
    "        categorical_transformed = loaded_categoric_transformer.transform(additional_features[categorical_features])        \n",
    "    \n",
    "\n",
    "    combined_features = hstack((text_transformed, numeric_transformed, categorical_transformed))\n",
    "    return combined_features\n",
    "\n",
    "# Define a function to fit the model\n",
    "def fit_model(pipe, X_train_text, X_train_additional, y_train):\n",
    "    X_train_combined = combine_features(X_train_text, X_train_additional)\n",
    "    grid_search = GridSearchCV(pipe, param_grid[model_name], cv=3, n_jobs=-1)\n",
    "    grid_search.fit(X_train_combined, y_train)\n",
    "    return grid_search"
   ]
  },
  {
   "cell_type": "code",
   "execution_count": 18,
   "id": "9f9c62fc-519e-43bf-93c7-c634aef5e3af",
   "metadata": {},
   "outputs": [
    {
     "name": "stdout",
     "output_type": "stream",
     "text": [
      "Number of features in the text vectorizer: 10000\n",
      "Best parameters for Logistic Regression: {'model__C': 1}\n",
      "Time spent on Logistic Regression: 0 minutes and 17.77 seconds\n",
      "--------------------------------------------------\n",
      "Number of features in the text vectorizer: 10000\n",
      "Best parameters for Random Forest: {'model__max_depth': None, 'model__n_estimators': 200}\n",
      "Time spent on Random Forest: 3 minutes and 16.89 seconds\n",
      "--------------------------------------------------\n",
      "Number of features in the text vectorizer: 10000\n",
      "Best parameters for XGBoost: {'model__learning_rate': 0.2, 'model__max_depth': 6, 'model__n_estimators': 200}\n",
      "Time spent on XGBoost: 31 minutes and 59.91 seconds\n",
      "--------------------------------------------------\n"
     ]
    }
   ],
   "source": [
    "import time\n",
    "\n",
    "# Perform hyperparameter tuning using GridSearchCV\n",
    "best_models = {}\n",
    "for model_name, model in models.items():\n",
    "    start_time = time.time()  # Start timing\n",
    "    \n",
    "    # Create a pipeline without preprocessing, as it's handled separately\n",
    "    pipe = Pipeline(steps=[('model', model)])\n",
    "    \n",
    "    # Fit the model and find best parameters\n",
    "    grid_search = fit_model(pipe, X_train_text, X_train_additional, y_train)\n",
    "    best_models[model_name] = grid_search.best_estimator_\n",
    "    print(f\"Best parameters for {model_name}: {grid_search.best_params_}\")\n",
    "    best_model = grid_search.best_estimator_\n",
    "    \n",
    "    end_time = time.time()  # End timing\n",
    "    elapsed_time = end_time - start_time  # Calculate elapsed time\n",
    "\n",
    "    # Convert elapsed time to minutes and seconds\n",
    "    minutes = int(elapsed_time // 60)\n",
    "    seconds = elapsed_time % 60\n",
    "\n",
    "    print(f\"Time spent on {model_name}: {minutes} minutes and {seconds:.2f} seconds\")\n",
    "    print(\"-\" * 50)  # Print a separator line for better readability    \n",
    "    \n",
    "    pickle_file = f\"best_{model_name.replace(' ', '_')}_model.pkl\"\n",
    "    with open(pickle_file, 'wb') as file:\n",
    "        pickle.dump(best_model, file)"
   ]
  },
  {
   "cell_type": "markdown",
   "id": "db01c0d1-201b-48dd-bb37-33c8164e6114",
   "metadata": {},
   "source": [
    "Now, evaluate the best models on the test set and print the classification report, accuracy, and confusion matrix for each model."
   ]
  },
  {
   "cell_type": "markdown",
   "id": "164f518f",
   "metadata": {},
   "source": [
    "## Evaluate Logistic Regression Model"
   ]
  },
  {
   "cell_type": "code",
   "execution_count": 19,
   "id": "7c5446d4",
   "metadata": {},
   "outputs": [
    {
     "name": "stdout",
     "output_type": "stream",
     "text": [
      "Number of features in the text vectorizer: 10000\n"
     ]
    },
    {
     "data": {
      "image/png": "[encoded data removed]",
      "text/plain": [
       "<Figure size 1000x800 with 2 Axes>"
      ]
     },
     "metadata": {},
     "output_type": "display_data"
    },
    {
     "name": "stdout",
     "output_type": "stream",
     "text": [
      "Per-class Metrics:\n",
      "\n",
      "Negative:\n",
      "Precision: 0.67\n",
      "Recall: 0.79\n",
      "F1-score: 0.73\n",
      "\n",
      "Neutral:\n",
      "Precision: 0.40\n",
      "Recall: 0.17\n",
      "F1-score: 0.24\n",
      "\n",
      "Positive:\n",
      "Precision: 0.72\n",
      "Recall: 0.79\n",
      "F1-score: 0.75\n",
      "\n",
      "Classification Report:\n",
      "              precision    recall  f1-score   support\n",
      "\n",
      "    Negative       0.67      0.79      0.73     78685\n",
      "     Neutral       0.40      0.17      0.24     39650\n",
      "    Positive       0.72      0.79      0.75     81765\n",
      "\n",
      "    accuracy                           0.67    200100\n",
      "   macro avg       0.60      0.59      0.57    200100\n",
      "weighted avg       0.64      0.67      0.64    200100\n",
      "\n"
     ]
    }
   ],
   "source": [
    "import pickle\n",
    "import seaborn as sns\n",
    "import matplotlib.pyplot as plt\n",
    "\n",
    "pickle_file = \"best_Logistic_Regression_model.pkl\"\n",
    "with open(pickle_file, 'rb') as file:\n",
    "    loaded_LR_model = pickle.load(file)\n",
    "\n",
    "X_test_combined = combine_features(X_test_text, \n",
    "                                   X_test_additional,\n",
    "                                   \"tfidf_vectorizer.pkl\", \n",
    "                                   \"numeric_transformer.pkl\",\n",
    "                                   \"categoric_transformer.pkl\")\n",
    "\n",
    "y_pred = loaded_LR_model.predict(X_test_combined)\n",
    "\n",
    "# Generate confusion matrix\n",
    "cm = confusion_matrix(y_test, y_pred)\n",
    "\n",
    "# Plot confusion matrix\n",
    "plt.figure(figsize=(10, 8))\n",
    "sns.heatmap(cm, annot=True, fmt='d', cmap='Blues')\n",
    "plt.title('Confusion Matrix')\n",
    "plt.xlabel('Predicted')\n",
    "plt.ylabel('Actual')\n",
    "plt.show()\n",
    "\n",
    "# Calculate per-class metrics\n",
    "class_names = ['Negative', 'Neutral', 'Positive']\n",
    "print(\"Per-class Metrics:\")\n",
    "for i, class_name in enumerate(class_names):\n",
    "    true_positive = cm[i, i]\n",
    "    false_positive = cm[:, i].sum() - true_positive\n",
    "    false_negative = cm[i, :].sum() - true_positive\n",
    "\n",
    "    precision = true_positive / (true_positive + false_positive) if (true_positive + false_positive) > 0 else 0\n",
    "    recall = true_positive / (true_positive + false_negative) if (true_positive + false_negative) > 0 else 0\n",
    "    f1 = 2 * (precision * recall) / (precision + recall) if (precision + recall) > 0 else 0\n",
    "\n",
    "    print(f\"\\n{class_name}:\")\n",
    "    print(f\"Precision: {precision:.2f}\")\n",
    "    print(f\"Recall: {recall:.2f}\")\n",
    "    print(f\"F1-score: {f1:.2f}\")\n",
    "\n",
    "# Generate classification report\n",
    "print(\"\\nClassification Report:\")\n",
    "print(classification_report(y_test, y_pred, target_names=class_names))"
   ]
  },
  {
   "cell_type": "markdown",
   "id": "0724c64f",
   "metadata": {},
   "source": [
    "## Evaluate Random Forest Model"
   ]
  },
  {
   "cell_type": "code",
   "execution_count": 20,
   "id": "bb372730",
   "metadata": {},
   "outputs": [
    {
     "name": "stdout",
     "output_type": "stream",
     "text": [
      "Number of features in the text vectorizer: 10000\n"
     ]
    },
    {
     "data": {
      "image/png": "[encoded data removed]",
      "text/plain": [
       "<Figure size 1000x800 with 2 Axes>"
      ]
     },
     "metadata": {},
     "output_type": "display_data"
    },
    {
     "name": "stdout",
     "output_type": "stream",
     "text": [
      "Per-class Metrics:\n",
      "\n",
      "Negative:\n",
      "Precision: 0.64\n",
      "Recall: 0.83\n",
      "F1-score: 0.72\n",
      "\n",
      "Neutral:\n",
      "Precision: 0.49\n",
      "Recall: 0.05\n",
      "F1-score: 0.09\n",
      "\n",
      "Positive:\n",
      "Precision: 0.70\n",
      "Recall: 0.81\n",
      "F1-score: 0.75\n",
      "\n",
      "Classification Report:\n",
      "              precision    recall  f1-score   support\n",
      "\n",
      "    Negative       0.64      0.83      0.72     78685\n",
      "     Neutral       0.49      0.05      0.09     39650\n",
      "    Positive       0.70      0.81      0.75     81765\n",
      "\n",
      "    accuracy                           0.67    200100\n",
      "   macro avg       0.61      0.56      0.52    200100\n",
      "weighted avg       0.64      0.67      0.61    200100\n",
      "\n"
     ]
    }
   ],
   "source": [
    "import pickle\n",
    "import seaborn as sns\n",
    "import matplotlib.pyplot as plt\n",
    "\n",
    "pickle_file = \"best_Random_Forest_model.pkl\"\n",
    "with open(pickle_file, 'rb') as file:\n",
    "    loaded_RF_model = pickle.load(file)\n",
    "\n",
    "X_test_combined = combine_features(X_test_text, \n",
    "                                   X_test_additional,\n",
    "                                   \"tfidf_vectorizer.pkl\", \n",
    "                                   \"numeric_transformer.pkl\",\n",
    "                                   \"categoric_transformer.pkl\")\n",
    "\n",
    "y_pred = loaded_RF_model.predict(X_test_combined)\n",
    "\n",
    "# Generate confusion matrix\n",
    "cm = confusion_matrix(y_test, y_pred)\n",
    "\n",
    "# Plot confusion matrix\n",
    "plt.figure(figsize=(10, 8))\n",
    "sns.heatmap(cm, annot=True, fmt='d', cmap='Blues')\n",
    "plt.title('Confusion Matrix')\n",
    "plt.xlabel('Predicted')\n",
    "plt.ylabel('Actual')\n",
    "plt.show()\n",
    "\n",
    "# Calculate per-class metrics\n",
    "class_names = ['Negative', 'Neutral', 'Positive']\n",
    "print(\"Per-class Metrics:\")\n",
    "for i, class_name in enumerate(class_names):\n",
    "    true_positive = cm[i, i]\n",
    "    false_positive = cm[:, i].sum() - true_positive\n",
    "    false_negative = cm[i, :].sum() - true_positive\n",
    "\n",
    "    precision = true_positive / (true_positive + false_positive) if (true_positive + false_positive) > 0 else 0\n",
    "    recall = true_positive / (true_positive + false_negative) if (true_positive + false_negative) > 0 else 0\n",
    "    f1 = 2 * (precision * recall) / (precision + recall) if (precision + recall) > 0 else 0\n",
    "\n",
    "    print(f\"\\n{class_name}:\")\n",
    "    print(f\"Precision: {precision:.2f}\")\n",
    "    print(f\"Recall: {recall:.2f}\")\n",
    "    print(f\"F1-score: {f1:.2f}\")\n",
    "\n",
    "# Generate classification report\n",
    "print(\"\\nClassification Report:\")\n",
    "print(classification_report(y_test, y_pred, target_names=class_names))"
   ]
  },
  {
   "cell_type": "markdown",
   "id": "ba36dfce",
   "metadata": {},
   "source": [
    "## Evaluate XGBoosting Model"
   ]
  },
  {
   "cell_type": "code",
   "execution_count": null,
   "id": "dfc055cf",
   "metadata": {},
   "outputs": [],
   "source": [
    "import pickle\n",
    "import seaborn as sns\n",
    "import matplotlib.pyplot as plt\n",
    "\n",
    "pickle_file = \"best_XGBoost_model.pkl\"\n",
    "with open(pickle_file, 'rb') as file:\n",
    "    loaded_XGB_model = pickle.load(file)\n",
    "\n",
    "X_test_combined = combine_features(X_test_text, \n",
    "                                   X_test_additional,\n",
    "                                   \"tfidf_vectorizer.pkl\", \n",
    "                                   \"numeric_transformer.pkl\",\n",
    "                                   \"categoric_transformer.pkl\")\n",
    "\n",
    "y_pred = loaded_XGB_model.predict(X_test_combined)\n",
    "\n",
    "# Generate confusion matrix\n",
    "cm = confusion_matrix(y_test, y_pred)\n",
    "\n",
    "# Plot confusion matrix\n",
    "plt.figure(figsize=(10, 8))\n",
    "sns.heatmap(cm, annot=True, fmt='d', cmap='Blues')\n",
    "plt.title('Confusion Matrix')\n",
    "plt.xlabel('Predicted')\n",
    "plt.ylabel('Actual')\n",
    "plt.show()\n",
    "\n",
    "# Calculate per-class metrics\n",
    "class_names = ['Negative', 'Neutral', 'Positive']\n",
    "print(\"Per-class Metrics:\")\n",
    "for i, class_name in enumerate(class_names):\n",
    "    true_positive = cm[i, i]\n",
    "    false_positive = cm[:, i].sum() - true_positive\n",
    "    false_negative = cm[i, :].sum() - true_positive\n",
    "\n",
    "    precision = true_positive / (true_positive + false_positive) if (true_positive + false_positive) > 0 else 0\n",
    "    recall = true_positive / (true_positive + false_negative) if (true_positive + false_negative) > 0 else 0\n",
    "    f1 = 2 * (precision * recall) / (precision + recall) if (precision + recall) > 0 else 0\n",
    "\n",
    "    print(f\"\\n{class_name}:\")\n",
    "    print(f\"Precision: {precision:.2f}\")\n",
    "    print(f\"Recall: {recall:.2f}\")\n",
    "    print(f\"F1-score: {f1:.2f}\")\n",
    "\n",
    "# Generate classification report\n",
    "print(\"\\nClassification Report:\")\n",
    "print(classification_report(y_test, y_pred, target_names=class_names))"
   ]
  },
  {
   "cell_type": "markdown",
   "id": "1a449e34",
   "metadata": {},
   "source": [
    "## Feature Importance of Logistic Regression Model"
   ]
  },
  {
   "cell_type": "code",
   "execution_count": 22,
   "id": "dd051810",
   "metadata": {},
   "outputs": [
    {
     "name": "stdout",
     "output_type": "stream",
     "text": [
      "\n",
      "Top 20 important features for Logistic Regression:\n",
      "            Feature  Importance\n",
      "9718          waste    3.385621\n",
      "1869      complaint   -3.125473\n",
      "5247          loves   -3.011702\n",
      "5160         little   -3.005427\n",
      "5242           love   -2.890646\n",
      "7330         return    2.691707\n",
      "957             bit   -2.555261\n",
      "1190          broke    2.539995\n",
      "9497        useless    2.496821\n",
      "4700            job   -2.484594\n",
      "1539          cheap    2.376077\n",
      "7333      returning    2.371970\n",
      "1542        cheaply    2.328814\n",
      "9899          works   -2.275747\n",
      "4746           junk    2.244861\n",
      "2581  disappointing    2.234526\n",
      "7079         refund    2.233411\n",
      "6105        overall   -2.199484\n",
      "9226          trash    2.021134\n",
      "3754        garbage    1.947724\n"
     ]
    },
    {
     "data": {
      "image/png": "[encoded data removed]",
      "text/plain": [
       "<Figure size 1000x600 with 1 Axes>"
      ]
     },
     "metadata": {},
     "output_type": "display_data"
    }
   ],
   "source": [
    "import pickle\n",
    "import numpy as np\n",
    "import pandas as pd\n",
    "import matplotlib.pyplot as plt\n",
    "\n",
    "# Load the saved logistic regression model\n",
    "with open('best_Logistic_Regression_model.pkl', 'rb') as file:\n",
    "    best_lr_model = pickle.load(file)\n",
    "\n",
    "\n",
    "with open('tfidf_vectorizer.pkl', 'rb') as file:\n",
    "    vectorizer = pickle.load(file)\n",
    "\n",
    "with open('numeric_transformer.pkl', 'rb') as file:\n",
    "    numeric_transformer = pickle.load(file)\n",
    "    \n",
    "with open('categoric_transformer.pkl', 'rb') as file:\n",
    "    categorical_transformer = pickle.load(file)\n",
    "    \n",
    "text_feature_names = vectorizer.get_feature_names_out()\n",
    "\n",
    "\n",
    "# Get feature names from each transformer\n",
    "text_feature_names = vectorizer.get_feature_names_out()\n",
    "numeric_feature_names = numeric_transformer.get_feature_names_out()\n",
    "categorical_feature_names = categorical_transformer.get_feature_names_out()\n",
    "\n",
    "\n",
    "feature_names = (\n",
    "    list(text_feature_names) + \n",
    "    list(numeric_feature_names) + \n",
    "    list(categorical_feature_names)\n",
    ")\n",
    "\n",
    "# Extract coefficients from the logistic regression model\n",
    "coefficients = best_lr_model.named_steps['model'].coef_[0]\n",
    "\n",
    "# Check if the lengths match\n",
    "if len(feature_names) != len(coefficients):\n",
    "    print(\"Mismatch in length of feature names and coefficients.\")\n",
    "    print(f\"Number of feature names: {len(feature_names)}\")\n",
    "    print(f\"Number of coefficients: {len(coefficients)}\")\n",
    "else:\n",
    "    # Create a DataFrame to display feature importance\n",
    "    feature_importance = pd.DataFrame({\n",
    "        'Feature': feature_names,\n",
    "        'Importance': coefficients\n",
    "    })\n",
    "\n",
    "    # Sort the DataFrame by the absolute value of the coefficients\n",
    "    feature_importance['Absolute Importance'] = feature_importance['Importance'].abs()\n",
    "    feature_importance = feature_importance.sort_values('Absolute Importance', ascending=False)\n",
    "\n",
    "    # Display the top 20 features\n",
    "    top_features = feature_importance.head(20)\n",
    "\n",
    "    # Print the top 20 features\n",
    "    print(\"\\nTop 20 important features for Logistic Regression:\")\n",
    "    print(top_features[['Feature', 'Importance']])\n",
    "\n",
    "    # Plot the top 20 features\n",
    "    plt.figure(figsize=(10, 6))\n",
    "    plt.title(\"Top 20 Feature Importances - Logistic Regression\")\n",
    "    plt.barh(top_features['Feature'], top_features['Importance'])\n",
    "    plt.xlabel(\"Coefficient Value\")\n",
    "    plt.ylabel(\"Feature\")\n",
    "    plt.gca().invert_yaxis()\n",
    "    plt.tight_layout()\n",
    "    plt.show()"
   ]
  },
  {
   "cell_type": "markdown",
   "id": "1135297e",
   "metadata": {},
   "source": [
    "## Feature Importance of Random Forest"
   ]
  },
  {
   "cell_type": "code",
   "execution_count": 23,
   "id": "ef4d3984",
   "metadata": {},
   "outputs": [
    {
     "name": "stdout",
     "output_type": "stream",
     "text": [
      "\n",
      "Top 20 important features for Random Forest Model:\n",
      "               Feature  Importance\n",
      "10002  sentiment_score    0.070619\n",
      "10000    review_length    0.027289\n",
      "3935             great    0.014564\n",
      "5242              love    0.010135\n",
      "3870              good    0.007916\n",
      "10001     helpful_vote    0.007034\n",
      "2872              easy    0.005572\n",
      "9899             works    0.005453\n",
      "5099              like    0.005143\n",
      "5160            little    0.004725\n",
      "2520              didn    0.004631\n",
      "6002                ok    0.004482\n",
      "2580      disappointed    0.004475\n",
      "6311           perfect    0.004385\n",
      "9718             waste    0.004202\n",
      "4750              just    0.004150\n",
      "5857              nice    0.003999\n",
      "1190             broke    0.003943\n",
      "2519               did    0.003807\n",
      "5667             money    0.003779\n"
     ]
    },
    {
     "data": {
      "image/png": "[encoded data removed]",
      "text/plain": [
       "<Figure size 1000x600 with 1 Axes>"
      ]
     },
     "metadata": {},
     "output_type": "display_data"
    }
   ],
   "source": [
    "import pickle\n",
    "import numpy as np\n",
    "import pandas as pd\n",
    "import matplotlib.pyplot as plt\n",
    "\n",
    "# Load the saved logistic regression model\n",
    "with open('best_Random_Forest_model.pkl', 'rb') as file:\n",
    "    best_rf_model = pickle.load(file)\n",
    "\n",
    "\n",
    "with open('tfidf_vectorizer.pkl', 'rb') as file:\n",
    "    vectorizer = pickle.load(file)\n",
    "\n",
    "with open('numeric_transformer.pkl', 'rb') as file:\n",
    "    numeric_transformer = pickle.load(file)\n",
    "    \n",
    "with open('categoric_transformer.pkl', 'rb') as file:\n",
    "    categorical_transformer = pickle.load(file)\n",
    "    \n",
    "text_feature_names = vectorizer.get_feature_names_out()\n",
    "\n",
    "\n",
    "# Get feature names from each transformer\n",
    "text_feature_names = vectorizer.get_feature_names_out()\n",
    "numeric_feature_names = numeric_transformer.get_feature_names_out()\n",
    "categorical_feature_names = categorical_transformer.get_feature_names_out()\n",
    "\n",
    "\n",
    "feature_names = (\n",
    "    list(text_feature_names) + \n",
    "    list(numeric_feature_names) + \n",
    "    list(categorical_feature_names)\n",
    ")\n",
    "\n",
    "# Extract coefficients from the logistic regression model\n",
    "coefficients = best_rf_model.named_steps['model'].feature_importances_\n",
    "\n",
    "# Check if the lengths match\n",
    "if len(feature_names) != len(coefficients):\n",
    "    print(\"Mismatch in length of feature names and coefficients.\")\n",
    "    print(f\"Number of feature names: {len(feature_names)}\")\n",
    "    print(f\"Number of coefficients: {len(coefficients)}\")\n",
    "else:\n",
    "    # Create a DataFrame to display feature importance\n",
    "    feature_importance = pd.DataFrame({\n",
    "        'Feature': feature_names,\n",
    "        'Importance': coefficients\n",
    "    })\n",
    "\n",
    "    # Sort the DataFrame by the absolute value of the coefficients\n",
    "    feature_importance['Absolute Importance'] = feature_importance['Importance'].abs()\n",
    "    feature_importance = feature_importance.sort_values('Absolute Importance', ascending=False)\n",
    "\n",
    "    # Display the top 20 features\n",
    "    top_features = feature_importance.head(20)\n",
    "\n",
    "    # Print the top 20 features\n",
    "    print(\"\\nTop 20 important features for Random Forest Model:\")\n",
    "    print(top_features[['Feature', 'Importance']])\n",
    "\n",
    "    # Plot the top 20 features\n",
    "    plt.figure(figsize=(10, 6))\n",
    "    plt.title(\"Top 20 Feature Importances - Random Forest Model\")\n",
    "    plt.barh(top_features['Feature'], top_features['Importance'])\n",
    "    plt.xlabel(\"Coefficient Value\")\n",
    "    plt.ylabel(\"Feature\")\n",
    "    plt.gca().invert_yaxis()\n",
    "    plt.tight_layout()\n",
    "    plt.show()"
   ]
  },
  {
   "cell_type": "markdown",
   "id": "70b222ea",
   "metadata": {},
   "source": [
    "## XGBoost Feature Importance"
   ]
  },
  {
   "cell_type": "code",
   "execution_count": 24,
   "id": "96a2d002",
   "metadata": {},
   "outputs": [
    {
     "name": "stdout",
     "output_type": "stream",
     "text": [
      "\n",
      "Top 20 important features for XGBoost Model:\n",
      "               Feature  Importance\n",
      "10002  sentiment_score    0.004588\n",
      "5247             loves    0.004333\n",
      "9718             waste    0.003470\n",
      "7332          returned    0.003289\n",
      "8558           stopped    0.003263\n",
      "4199            highly    0.003110\n",
      "1542           cheaply    0.002939\n",
      "6002                ok    0.002921\n",
      "7079            refund    0.002784\n",
      "4746              junk    0.002775\n",
      "1032              body    0.002758\n",
      "1190             broke    0.002696\n",
      "7330            return    0.002677\n",
      "6003              okay    0.002595\n",
      "5242              love    0.002569\n",
      "6311           perfect    0.002529\n",
      "9226             trash    0.002487\n",
      "1539             cheap    0.002486\n",
      "5667             money    0.002478\n",
      "1869         complaint    0.002397\n"
     ]
    },
    {
     "data": {
      "image/png": "[encoded data removed]",
      "text/plain": [
       "<Figure size 1000x600 with 1 Axes>"
      ]
     },
     "metadata": {},
     "output_type": "display_data"
    }
   ],
   "source": [
    "import pickle\n",
    "import numpy as np\n",
    "import pandas as pd\n",
    "import matplotlib.pyplot as plt\n",
    "\n",
    "# Load the saved logistic regression model\n",
    "with open('best_XGBoost_model.pkl', 'rb') as file:\n",
    "    best_xgb_model = pickle.load(file)\n",
    "\n",
    "\n",
    "with open('tfidf_vectorizer.pkl', 'rb') as file:\n",
    "    vectorizer = pickle.load(file)\n",
    "\n",
    "with open('numeric_transformer.pkl', 'rb') as file:\n",
    "    numeric_transformer = pickle.load(file)\n",
    "    \n",
    "with open('categoric_transformer.pkl', 'rb') as file:\n",
    "    categorical_transformer = pickle.load(file)\n",
    "    \n",
    "text_feature_names = vectorizer.get_feature_names_out()\n",
    "\n",
    "\n",
    "# Get feature names from each transformer\n",
    "text_feature_names = vectorizer.get_feature_names_out()\n",
    "numeric_feature_names = numeric_transformer.get_feature_names_out()\n",
    "categorical_feature_names = categorical_transformer.get_feature_names_out()\n",
    "\n",
    "\n",
    "feature_names = (\n",
    "    list(text_feature_names) + \n",
    "    list(numeric_feature_names) + \n",
    "    list(categorical_feature_names)\n",
    ")\n",
    "\n",
    "# Extract coefficients from the logistic regression model\n",
    "coefficients = best_xgb_model.named_steps['model'].feature_importances_\n",
    "\n",
    "# Check if the lengths match\n",
    "if len(feature_names) != len(coefficients):\n",
    "    print(\"Mismatch in length of feature names and coefficients.\")\n",
    "    print(f\"Number of feature names: {len(feature_names)}\")\n",
    "    print(f\"Number of coefficients: {len(coefficients)}\")\n",
    "else:\n",
    "    # Create a DataFrame to display feature importance\n",
    "    feature_importance = pd.DataFrame({\n",
    "        'Feature': feature_names,\n",
    "        'Importance': coefficients\n",
    "    })\n",
    "\n",
    "    # Sort the DataFrame by the absolute value of the coefficients\n",
    "    feature_importance['Absolute Importance'] = feature_importance['Importance'].abs()\n",
    "    feature_importance = feature_importance.sort_values('Absolute Importance', ascending=False)\n",
    "\n",
    "    # Display the top 20 features\n",
    "    top_features = feature_importance.head(20)\n",
    "\n",
    "    # Print the top 20 features\n",
    "    print(\"\\nTop 20 important features for XGBoost Model:\")\n",
    "    print(top_features[['Feature', 'Importance']])\n",
    "\n",
    "    # Plot the top 20 features\n",
    "    plt.figure(figsize=(10, 6))\n",
    "    plt.title(\"Top 20 Feature Importances - XGBoost Model\")\n",
    "    plt.barh(top_features['Feature'], top_features['Importance'])\n",
    "    plt.xlabel(\"Coefficient Value\")\n",
    "    plt.ylabel(\"Feature\")\n",
    "    plt.gca().invert_yaxis()\n",
    "    plt.tight_layout()\n",
    "    plt.show()"
   ]
  },
  {
   "cell_type": "markdown",
   "id": "47157bf9-558b-4903-b824-d5e8ae8f0e32",
   "metadata": {},
   "source": [
    "## Summary of Model Performance\n",
    "**Logistic Regression** and **Random Forest** models were evaluated for sentiment analysis using Amazon product reviews. Here’s a detailed analysis of their performance:\n",
    "- **Logistic Regression** achieved an accuracy of 69%, while **Random Forest** performed slightly worse with an accuracy of 68%. **XGBoost Model** outperformed both of them with less number of reviews in training set and got 0.70 accuracy score. Despite these seemingly moderate accuracies, both models exhibit significant limitations in their performance, especially in handling different sentiment classes. Both are strugling to cover Neutral sentiments since they require wide context awareness.\n",
    "\n",
    "### Performance Metrics Breakdown\n",
    "\n",
    "#### Logistic Regression trained with 761K reviews:\n",
    "- **Accuracy:** 0.69\n",
    "- **Negative (Class 0):** Precision = 0.69, Recall = 0.82, F1-Score = 0.75\n",
    "- **Neutral (Class 1):** Precision = 0.45, Recall = 0.17, F1-Score = 0.25\n",
    "- **Positive (Class 2):** Precision = 0.74, Recall = 0.83, F1-Score = 0.78\n",
    "\n",
    "#### Random Forest trained with 761K reviews:\n",
    "- **Accuracy:** 0.68\n",
    "- **Negative (Class 0):** Precision = 0.66, Recall = 0.84, F1-Score = 0.74\n",
    "- **Neutral (Class 1):** Precision = 0.49, Recall = 0.08, F1-Score = 0.13\n",
    "- **Positive (Class 2):** Precision = 0.72, Recall = 0.82, F1-Score = 0.77\n",
    "\n",
    "#### XGBoost Model trained with 200K reviews:\n",
    "- **Accuracy:** 0.70\n",
    "- **Negative (Class 0):** Precision = 0.70, Recall = 0.83, F1-Score = 0.76\n",
    "- **Neutral (Class 1):** Precision = 0.48, Recall = 0.16, F1-Score = 0.29\n",
    "- **Positive (Class 2):** Precision = 0.75, Recall = 0.82, F1-Score = 0.79\n",
    "\n",
    "### Key Observations:\n",
    "\n",
    "1. **Neutral Sentiment Classification:** All models struggle significantly with neutral sentiment. The Random Forest model, in particular, has a very low recall (0.08) for neutral sentiment, indicating it rarely identifies neutral reviews correctly. Logistic Regression shows similar weaknesses, with an even lower recall (0.17) and XGBoost with another low recall (0.16).\n",
    "\n",
    "2. **Negative Sentiment Classification:** All models achieve moderate performance in classifying negative reviews. Random Forest performs slightly better in terms of recall (0.84) compared to Logistic Regression (0.82) and XGBoost Model (0.83).\n",
    "\n",
    "3. **Positive Sentiment Classification:** All models perform reasonably well with positive sentiment, but there's room for improvement, especially in balancing precision and recall.\n",
    "\n",
    "### Need for Advanced NLP Techniques\n",
    "The current models —Logistic Regression, Random Forest and XGBoost— rely on traditional feature engineering and straightforward machine learning approaches. However, their performance highlights several limitations, particularly in capturing the nuances of sentiment in text data. Here’s why more advanced NLP techniques are warranted:\n",
    "\n",
    "1. **Contextual Understanding:** Logistic Regression, Random Forest and XGBoost lack the ability to understand context and semantics deeply. Advanced models like BERT (Bidirectional Encoder Representations from Transformers) offer contextual embeddings that capture the meaning of words in context, leading to better performance in sentiment classification.\n",
    "\n",
    "2. **Handling Ambiguity:** The models struggle with ambiguous or nuanced language, especially in the neutral class. BERT and similar models can handle such ambiguities better due to their deep understanding of language context and subtleties.\n",
    "\n",
    "3. **Feature Learning:** The existing models rely on handcrafted features like TF-IDF and basic text preprocessing. Advanced models like BERT learn rich, dense representations of text automatically, improving the capture of semantic and syntactic information crucial for accurate sentiment analysis.\n",
    "\n",
    "4. **Imbalanced Classes:** The imbalance in class distribution affects model performance, particularly in predicting the neutral class. Advanced models like BERT can leverage transfer learning and pre-trained embeddings to better manage class imbalances and improve overall classification performance.\n",
    "\n",
    "## Moving to Advanced Techniques: Leveraging BERT for Enhanced Sentiment Analysis\n",
    "This analysis has been a preliminary step to establish a baseline for sentiment analysis. To enhance model performance and leverage more sophisticated NLP techniques, the following steps are planned:\n",
    "\n",
    "- **Utilize Larger Dataset:** Scaling up to a larger dataset will provide more comprehensive coverage of diverse sentiments and improve the model’s ability to generalize.\n",
    "\n",
    "- **Implement BERT with Hugging Face and Colab:** Transition to using BERT for sentiment analysis. BERT’s ability to capture contextual information and nuances in text will significantly improve performance. Leveraging Hugging Face’s Transformers library and Google Colab will facilitate efficient experimentation and fine-tuning on larger datasets.\n",
    "\n",
    "- **Fine-Tuning BERT:** Fine-tune the pre-trained BERT model on the specific sentiment analysis dataset to adapt it to the nuances of the data, improving accuracy and handling of complex sentiment classifications.\n",
    "\n",
    "These planned steps aim to achieve a more accurate and nuanced sentiment analysis model, addressing the limitations observed with traditional machine learning approaches. enhance the results, especially for neutral reviews."
   ]
  },
  {
   "cell_type": "code",
   "execution_count": null,
   "id": "d812ad87-0e97-47a0-a040-aada948bb61f",
   "metadata": {},
   "outputs": [],
   "source": []
  }
 ],
 "metadata": {
  "kernelspec": {
   "display_name": "env_conda_sentiment_kernel_1.0",
   "language": "python",
   "name": "env_conda_sentiment"
  },
  "language_info": {
   "codemirror_mode": {
    "name": "ipython",
    "version": 3
   },
   "file_extension": ".py",
   "mimetype": "text/x-python",
   "name": "python",
   "nbconvert_exporter": "python",
   "pygments_lexer": "ipython3",
   "version": "3.9.19"
  }
 },
 "nbformat": 4,
 "nbformat_minor": 5
}
