{
 "cells": [
  {
   "cell_type": "markdown",
   "metadata": {},
   "source": [
    "**Table of contents**<a id='toc0_'></a>    \n",
    "- [Project Goal](#toc1_)    \n",
    "  - [Problem Statement](#toc1_1_)    \n",
    "  - [Context](#toc1_2_)    \n",
    "- [The Steps of The Project](#toc2_)    \n",
    "- [Data Source Introduction](#toc3_)    \n",
    "  - [Sample Review Data](#toc3_1_)    \n",
    "  - [Dataset Compared to Previous Versions](#toc3_2_)    \n",
    "  - [Sampling Operations for LLM Model Fine Tunning](#toc3_3_)    \n",
    "\n",
    "<!-- vscode-jupyter-toc-config\n",
    "\tnumbering=false\n",
    "\tanchor=true\n",
    "\tflat=false\n",
    "\tminLevel=1\n",
    "\tmaxLevel=6\n",
    "\t/vscode-jupyter-toc-config -->\n",
    "<!-- THIS CELL WILL BE REPLACED ON TOC UPDATE. DO NOT WRITE YOUR TEXT IN THIS CELL -->"
   ]
  },
  {
   "cell_type": "markdown",
   "metadata": {},
   "source": [
    "# <a id='toc1_'></a>[Project Goal](#toc0_)\n",
    "\n",
    "## <a id='toc1_1_'></a>[Problem Statement](#toc0_)\n",
    "The goal of this project is to develop a sentiment analysis model using advanced Natural Language Processing (NLP) techniques, specifically leveraging Large Language Models (LLM), to classify Amazon product reviews as positive, or negative or notr based on the review text. This model aims to provide valuable insights for product manufacturers, sellers, and customers to understand public sentiment towards various products, thereby enabling informed decision-making.\n",
    "\n",
    "## <a id='toc1_2_'></a>[Context](#toc0_)\n",
    "With millions of products available on Amazon, understanding customer sentiment is crucial for sellers to enhance their offerings, manufacturers to improve product quality, and customers to make informed purchasing decisions. Automated sentiment analysis accelerates the process of deriving meaningful insights from large volumes of reviews, allowing for scalable measurement of customer satisfaction and identification of areas for improvement.\n"
   ]
  },
  {
   "cell_type": "markdown",
   "metadata": {},
   "source": [
    "# <a id='toc2_'></a>[The Steps of The Project](#toc0_)\n",
    "Below steps are completed in scope of the project:<br><br>\n",
    "1- Problem and goals definition<br>\n",
    "2- Data retrieval and data quality controls<br>\n",
    "3- Sampling for rapid modelling <br>\n",
    "4- Data quality controls and pre-processing (data cleaning)<br>\n",
    "5- Exploratory data analysis and data insights retrieval<br>\n",
    "6- Feature selection and engineering<br>\n",
    "7- Baseline model definition <br>\n",
    "8- Model training and fine-tunning<br>\n",
    "9- Model evaluation and benchmarking<br>\n",
    "10- Model deployment<br>\n",
    "11- Solution usage with API definition<br>"
   ]
  },
  {
   "cell_type": "markdown",
   "metadata": {},
   "source": [
    "# <a id='toc3_'></a>[Data Source Introduction](#toc0_)\n",
    "**Data Source Link:** https://amazon-reviews-2023.github.io/ <br>\n",
    "**Data Source Name:** Amazon Reviews’23 <br>\n",
    "**Collected by:** University of California San Diego (UCSD) McAuley Lab https://cseweb.ucsd.edu/~jmcauley/ <br> \n",
    "**Collected from:** Amazon website (1996 - 2023) <br>\n",
    "**Downloaded files:** Just review files (no meta data files) <br>\n",
    "**Language:** English <br>\n",
    "**Data Source Origin:** Amazon web site <br>\n",
    "\n",
    "In the Amazon Reviews’23:\n",
    "* **Larger Dataset:** 571.54M reviews, 245.2% larger than the last version\n",
    "* **Newer Interactions:** Current interactions range from May. 1996 to Sep. 2023\n",
    "* **Richer Metadata:** More descriptive features in item metadata\n",
    "* **Fine-grained Timestamp:** Interaction timestamp at the second or finer level\n",
    "* **Cleaner Processing:** Cleaner item metadata than previous versions\n",
    "* **Standard Splitting:** Standard data splits to encourage RecSys benchmarking.*\n",
    "\n",
    "571M Product Reviews from 34 Product Categories (33 known product cateogories and 1 unknown category) including review title, review text and rating information. \n",
    "\n",
    "## <a id='toc3_1_'></a>[Sample Review Data](#toc0_)"
   ]
  },
  {
   "cell_type": "code",
   "execution_count": 4,
   "metadata": {},
   "outputs": [
    {
     "data": {
      "text/plain": [
       "{'rating': 5.0,\n",
       " 'title': 'Such a lovely scent but not overpowering.',\n",
       " 'text': \"This spray is really nice. It smells really good, goes on really fine, and does the trick. I will say it feels like you need a lot of it though to get the texture I want. I have a lot of hair, medium thickness. I am comparing to other brands with yucky chemicals so I'm gonna stick with this. Try it!\",\n",
       " 'images': [],\n",
       " 'asin': 'B00YQ6X8EO',\n",
       " 'parent_asin': 'B00YQ6X8EO',\n",
       " 'user_id': 'AGKHLEW2SOWHNMFQIJGBECAF7INQ',\n",
       " 'timestamp': 1588687728923,\n",
       " 'helpful_vote': 0,\n",
       " 'verified_purchase': True}"
      ]
     },
     "execution_count": 4,
     "metadata": {},
     "output_type": "execute_result"
    }
   ],
   "source": [
    "\n",
    "{'rating': 5.0,\n",
    " 'title': 'Such a lovely scent but not overpowering.',\n",
    " 'text': \"This spray is really nice. It smells really good, goes on really fine, and does the trick. I will say it feels like you need a lot of it though to get the texture I want. I have a lot of hair, medium thickness. I am comparing to other brands with yucky chemicals so I'm gonna stick with this. Try it!\",\n",
    " 'images': [],\n",
    " 'asin': 'B00YQ6X8EO',\n",
    " 'parent_asin': 'B00YQ6X8EO',\n",
    " 'user_id': 'AGKHLEW2SOWHNMFQIJGBECAF7INQ',\n",
    " 'timestamp': 1588687728923,\n",
    " 'helpful_vote': 0,\n",
    " 'verified_purchase': True}\n"
   ]
  },
  {
   "cell_type": "markdown",
   "metadata": {},
   "source": [
    "\n",
    "\n",
    "## <a id='toc3_2_'></a>[Dataset Compared to Previous Versions](#toc0_)\n",
    "<img src=\"../docs/images/dataset_comparison.jpg\" alt=\"Alternative text\" />\n",
    "\n",
    "\n",
    "## <a id='toc3_3_'></a>[Sampling Operations for LLM Model Fine Tunning](#toc0_)\n",
    "\n",
    "The dataset is pretty large for our LLM training but to eliminate huge resource requirement and heavy GPU dependency, decided to make sampling and also  to work only on review data files by excluding meta files. <br><br>\n",
    "\n",
    "Sampled dataset size: ~1 million reviews <br>\n",
    "Sampling method: Approximately equal number for per rating class per product categories<br>\n",
    "Targeted sample per rating per product category: 1 million / (34 * 5) = 5882 sample <br>\n"
   ]
  }
 ],
 "metadata": {
  "kernelspec": {
   "display_name": "env_conda_sentiment_kernel_1.0",
   "language": "python",
   "name": "env_conda_sentiment"
  },
  "language_info": {
   "codemirror_mode": {
    "name": "ipython",
    "version": 3
   },
   "file_extension": ".py",
   "mimetype": "text/x-python",
   "name": "python",
   "nbconvert_exporter": "python",
   "pygments_lexer": "ipython3",
   "version": "3.9.19"
  }
 },
 "nbformat": 4,
 "nbformat_minor": 2
}
